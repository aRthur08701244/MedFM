{
 "cells": [
  {
   "cell_type": "code",
   "execution_count": 6,
   "id": "3e170172-cf9a-4822-89d6-c778b469ace1",
   "metadata": {},
   "outputs": [],
   "source": [
    "import os\n",
    "import shutil\n",
    "import pandas as pd"
   ]
  },
  {
   "cell_type": "code",
   "execution_count": 2,
   "id": "16325eec-c093-43bc-acba-95e8eef6e91e",
   "metadata": {},
   "outputs": [],
   "source": [
    "!rm -rf MedFMC"
   ]
  },
  {
   "cell_type": "code",
   "execution_count": 3,
   "id": "d915f8cc-12b1-4c8e-add1-d4325d7f7de5",
   "metadata": {},
   "outputs": [],
   "source": [
    "os.makedirs(\"MedFMC/chest\", exist_ok=True)\n",
    "os.makedirs(\"MedFMC/colon\", exist_ok=True)\n",
    "os.makedirs(\"MedFMC/endo\", exist_ok=True)"
   ]
  },
  {
   "cell_type": "code",
   "execution_count": 4,
   "id": "d64e9926-9c95-49a2-9c08-8c5edddb39d3",
   "metadata": {},
   "outputs": [
    {
     "name": "stdout",
     "output_type": "stream",
     "text": [
      "chest\n",
      "4849\n",
      "colon\n",
      "10009\n",
      "endo\n",
      "3865\n"
     ]
    }
   ],
   "source": [
    "for target in [\"chest\", \"colon\", \"endo\"]:\n",
    "    print(target)\n",
    "    shutil.copytree(f\"./MedFMC_train/{target}/images\", f\"./MedFMC/{target}/images\")\n",
    "    for file in os.listdir(f\"./MedFMC_val/{target}/images\"):\n",
    "        shutil.copyfile(f\"./MedFMC_val/{target}/images/{file}\", f\"./MedFMC/{target}/images/{file}\")\n",
    "    print(len(os.listdir(f\"./MedFMC/{target}/images/\")))"
   ]
  },
  {
   "cell_type": "code",
   "execution_count": 17,
   "id": "d9849d8f-15fa-43d8-ade4-fa69a39ce471",
   "metadata": {},
   "outputs": [
    {
     "name": "stdout",
     "output_type": "stream",
     "text": [
      "chest\n",
      "4848\n",
      "4848\n",
      "4848\n",
      "colon\n",
      "10009\n",
      "10009\n",
      "11009\n",
      "endo\n",
      "3865\n",
      "3865\n",
      "3865\n"
     ]
    }
   ],
   "source": [
    "for target in [\"chest\", \"colon\", \"endo\"]:\n",
    "    print(target)\n",
    "    print(len([i for i in os.listdir(f\"./MedFMC/{target}/images/\") if i[-3:] == \"png\"]))\n",
    "    print(len([i for i in os.listdir(f\"./MedFMC_train/{target}/images/\") if i[-3:] == \"png\"]) + len([i for i in os.listdir(f\"./MedFMC_val/{target}/images/\") if i[-3:] == \"png\"]))\n",
    "    print(pd.read_csv(f\"./MedFMC_train/{target}/{target}_train.csv\").shape[0] + pd.read_csv(f\"./MedFMC_val/{target}/{target}_val.csv\").shape[0])"
   ]
  },
  {
   "cell_type": "code",
   "execution_count": 18,
   "id": "ce7b0c84-8de9-4a03-a46e-689d0a702c99",
   "metadata": {},
   "outputs": [
    {
     "data": {
      "text/plain": [
       "True"
      ]
     },
     "execution_count": 18,
     "metadata": {},
     "output_type": "execute_result"
    }
   ],
   "source": [
    "# train\n",
    "'5C2EB54413D4CEC.png' in os.listdir(f\"./MedFMC/chest/images/\")"
   ]
  },
  {
   "cell_type": "code",
   "execution_count": 19,
   "id": "a8abd007-b7bb-4667-badc-57abdd8f3cda",
   "metadata": {},
   "outputs": [
    {
     "data": {
      "text/plain": [
       "True"
      ]
     },
     "execution_count": 19,
     "metadata": {},
     "output_type": "execute_result"
    }
   ],
   "source": [
    "# test\n",
    "'5B91F7409CCCE2.png' in os.listdir(f\"./MedFMC/chest/images/\")"
   ]
  },
  {
   "cell_type": "code",
   "execution_count": null,
   "id": "ba77a67b-4c83-4f4c-9967-88e09ce55f2d",
   "metadata": {},
   "outputs": [],
   "source": []
  }
 ],
 "metadata": {
  "kernelspec": {
   "display_name": "base",
   "language": "python",
   "name": "base"
  },
  "language_info": {
   "codemirror_mode": {
    "name": "ipython",
    "version": 3
   },
   "file_extension": ".py",
   "mimetype": "text/x-python",
   "name": "python",
   "nbconvert_exporter": "python",
   "pygments_lexer": "ipython3",
   "version": "3.11.5"
  }
 },
 "nbformat": 4,
 "nbformat_minor": 5
}
